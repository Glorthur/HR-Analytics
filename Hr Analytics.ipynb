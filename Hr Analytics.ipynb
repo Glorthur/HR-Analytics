{
 "cells": [
  {
   "cell_type": "markdown",
   "metadata": {},
   "source": [
    "# Overview"
   ]
  },
  {
   "cell_type": "code",
   "execution_count": null,
   "metadata": {
    "vscode": {
     "languageId": "sql"
    }
   },
   "outputs": [],
   "source": [
    "-- Employee HR Analytics EDA\n",
    "-- Comment out USE statement for now\n",
    "-- USE perf_prod;\n",
    "\n",
    "-- 1. Basic overview of the dataset\n",
    "SELECT COUNT(*) AS total_employees FROM employees;\n",
    "\n",
    "-- 2. Understanding the data structure\n",
    "DESC employees;\n",
    "\n",
    "-- 3. Sample of data (first 10 rows)\n",
    "SELECT * FROM employees LIMIT 10;"
   ]
  },
  {
   "cell_type": "markdown",
   "metadata": {},
   "source": [
    "\n",
    "The first 10 rows of the dataset were sampled to inspect the data for any anomalies.\n",
    "\n",
    "The basic structure of the table was investigated using the describe keyword to figure out the datatypes for the various columns"
   ]
  },
  {
   "cell_type": "code",
   "execution_count": null,
   "metadata": {
    "vscode": {
     "languageId": "sql"
    }
   },
   "outputs": [],
   "source": [
    "select * from employees;"
   ]
  },
  {
   "cell_type": "markdown",
   "metadata": {},
   "source": [
    "# Data Quality Checks"
   ]
  },
  {
   "cell_type": "markdown",
   "metadata": {},
   "source": [
    "## Check for missing values"
   ]
  },
  {
   "cell_type": "code",
   "execution_count": null,
   "metadata": {
    "vscode": {
     "languageId": "sql"
    }
   },
   "outputs": [],
   "source": [
    "-- Check for missing values in key columns\n",
    "SELECT \n",
    "    COUNT(*) AS total_records,\n",
    "    SUM(CASE WHEN Employee_ID IS NULL THEN 1 ELSE 0 END) AS missing_employee_id,\n",
    "    SUM(CASE WHEN Department IS NULL THEN 1 ELSE 0 END) AS missing_department,\n",
    "    SUM(CASE WHEN Gender IS NULL THEN 1 ELSE 0 END) AS missing_gender,\n",
    "    SUM(CASE WHEN Age IS NULL THEN 1 ELSE 0 END) AS missing_age,\n",
    "    SUM(CASE WHEN Monthly_Salary IS NULL THEN 1 ELSE 0 END) AS missing_salary,\n",
    "    SUM(CASE WHEN Performance_Score IS NULL THEN 1 ELSE 0 END) AS missing_performance,\n",
    "    SUM(CASE WHEN Employee_Satisfaction_Score IS NULL THEN 1 ELSE 0 END) AS missing_satisfaction,\n",
    "    SUM(CASE WHEN Resigned IS NULL THEN 1 ELSE 0 END) AS missing_resignation\n",
    "FROM employees;"
   ]
  },
  {
   "cell_type": "markdown",
   "metadata": {},
   "source": [
    "Insights: No missing values were found in the dataset.\n",
    "\n"
   ]
  },
  {
   "cell_type": "markdown",
   "metadata": {},
   "source": [
    "## Check for duplicate records"
   ]
  },
  {
   "cell_type": "code",
   "execution_count": null,
   "metadata": {
    "vscode": {
     "languageId": "sql"
    }
   },
   "outputs": [],
   "source": [
    "-- Duplicate Records Check\n",
    "-- Purpose: Identify any duplicate employee records\n",
    "SELECT \n",
    "    Employee_ID, \n",
    "    COUNT(*) AS record_count\n",
    "FROM employees\n",
    "GROUP BY Employee_ID\n",
    "HAVING COUNT(*) > 1;"
   ]
  },
  {
   "cell_type": "markdown",
   "metadata": {},
   "source": [
    "Insights: No duplicate values were found"
   ]
  },
  {
   "cell_type": "markdown",
   "metadata": {},
   "source": [
    "## Check for outliers"
   ]
  },
  {
   "cell_type": "code",
   "execution_count": null,
   "metadata": {
    "vscode": {
     "languageId": "sql"
    }
   },
   "outputs": [],
   "source": [
    "-- Value Range Check\n",
    "-- Purpose: Identify values outside expected ranges\n",
    "SELECT\n",
    "    COUNT(*) AS total_records,\n",
    "    SUM(CASE WHEN Age < 18 OR Age > 70 THEN 1 ELSE 0 END) AS invalid_age,\n",
    "    SUM(CASE WHEN Monthly_Salary < 0 THEN 1 ELSE 0 END) AS negative_salary,\n",
    "    SUM(CASE WHEN Performance_Score < 1 OR Performance_Score > 5 THEN 1 ELSE 0 END) AS invalid_performance,\n",
    "    SUM(CASE WHEN Employee_Satisfaction_Score < 0 OR Employee_Satisfaction_Score > 5 THEN 1 ELSE 0 END) AS invalid_satisfaction,\n",
    "    SUM(CASE WHEN Resigned NOT IN (0, 1) THEN 1 ELSE 0 END) AS invalid_resignation\n",
    "FROM employees;"
   ]
  },
  {
   "cell_type": "markdown",
   "metadata": {},
   "source": [
    "Insights: no outliers were found"
   ]
  },
  {
   "cell_type": "markdown",
   "metadata": {},
   "source": [
    "# DATA STRUCTURE & SUMMARY STATISTICS"
   ]
  },
  {
   "cell_type": "code",
   "execution_count": null,
   "metadata": {
    "vscode": {
     "languageId": "sql"
    }
   },
   "outputs": [],
   "source": [
    "-- 2.1: Table Structure\n",
    "-- Purpose: Understand the data types and structure of the employees table\n",
    "DESCRIBE employees;"
   ]
  },
  {
   "cell_type": "markdown",
   "metadata": {},
   "source": [
    "## Basic Summary Statistics (Numerical Columns)"
   ]
  },
  {
   "cell_type": "code",
   "execution_count": null,
   "metadata": {
    "vscode": {
     "languageId": "sql"
    }
   },
   "outputs": [],
   "source": [
    "--  Basic Summary Statistics\n",
    "-- Purpose: Calculate descriptive statistics for numerical columns\n",
    "SELECT\n",
    "    'Age' AS column_name,\n",
    "    COUNT(Age) AS count,\n",
    "    MIN(Age) AS minimum,\n",
    "    MAX(Age) AS maximum,\n",
    "    ROUND(AVG(Age), 2) AS mean,\n",
    "    ROUND(STDDEV(Age), 2) AS std_dev\n",
    "FROM employees\n",
    "\n",
    "UNION ALL\n",
    "\n",
    "SELECT\n",
    "    'Monthly_Salary' AS column_name,\n",
    "    COUNT(Monthly_Salary) AS count,\n",
    "    MIN(Monthly_Salary) AS minimum,\n",
    "    MAX(Monthly_Salary) AS maximum,\n",
    "    ROUND(AVG(Monthly_Salary), 2) AS mean,\n",
    "    ROUND(STDDEV(Monthly_Salary), 2) AS std_dev\n",
    "FROM employees\n",
    "\n",
    "UNION ALL\n",
    "\n",
    "SELECT\n",
    "    'Performance_Score' AS column_name,\n",
    "    COUNT(Performance_Score) AS count,\n",
    "    MIN(Performance_Score) AS minimum,\n",
    "    MAX(Performance_Score) AS maximum,\n",
    "    ROUND(AVG(Performance_Score), 2) AS mean,\n",
    "    ROUND(STDDEV(Performance_Score), 2) AS std_dev\n",
    "FROM employees\n",
    "\n",
    "UNION ALL\n",
    "\n",
    "SELECT\n",
    "    'Employee_Satisfaction_Score' AS column_name,\n",
    "    COUNT(Employee_Satisfaction_Score) AS count,\n",
    "    MIN(Employee_Satisfaction_Score) AS minimum,\n",
    "    MAX(Employee_Satisfaction_Score) AS maximum,\n",
    "    ROUND(AVG(Employee_Satisfaction_Score), 2) AS mean,\n",
    "    ROUND(STDDEV(Employee_Satisfaction_Score), 2) AS std_dev\n",
    "FROM employees;"
   ]
  },
  {
   "cell_type": "markdown",
   "metadata": {
    "vscode": {
     "languageId": "sql"
    }
   },
   "source": [
    "# Basic Summary Statistics (categorical columns)"
   ]
  },
  {
   "cell_type": "code",
   "execution_count": null,
   "metadata": {
    "vscode": {
     "languageId": "sql"
    }
   },
   "outputs": [],
   "source": [
    "-- Purpose: Analyze the distribution of categorical variables\n",
    "-- Department Distribution\n",
    "SELECT \n",
    "    Department, \n",
    "    COUNT(*) AS count,\n",
    "    ROUND(COUNT(*) / (SELECT COUNT(*) FROM employees) * 100, 2) AS percentage\n",
    "FROM employees\n",
    "GROUP BY Department\n",
    "ORDER BY count DESC;"
   ]
  },
  {
   "cell_type": "code",
   "execution_count": null,
   "metadata": {
    "vscode": {
     "languageId": "sql"
    }
   },
   "outputs": [],
   "source": [
    "-- Gender Distribution\n",
    "SELECT \n",
    "    Gender, \n",
    "    COUNT(*) AS count,\n",
    "    ROUND(COUNT(*) / (SELECT COUNT(*) FROM employees) * 100, 2) AS percentage\n",
    "FROM employees\n",
    "GROUP BY Gender\n",
    "ORDER BY count DESC;"
   ]
  },
  {
   "cell_type": "code",
   "execution_count": null,
   "metadata": {
    "vscode": {
     "languageId": "sql"
    }
   },
   "outputs": [],
   "source": [
    "-- Education Level Distribution\n",
    "SELECT \n",
    "    Education_Level, \n",
    "    COUNT(*) AS count,\n",
    "    ROUND(COUNT(*) / (SELECT COUNT(*) FROM employees) * 100, 2) AS percentage\n",
    "FROM employees\n",
    "GROUP BY Education_Level\n",
    "ORDER BY count DESC;"
   ]
  },
  {
   "cell_type": "code",
   "execution_count": null,
   "metadata": {
    "vscode": {
     "languageId": "sql"
    }
   },
   "outputs": [],
   "source": [
    "-- Resignation Status Distribution\n",
    "SELECT \n",
    "    CASE WHEN Resigned = 1 THEN 'Resigned' ELSE 'Active' END AS status,\n",
    "    COUNT(*) AS count,\n",
    "    ROUND(COUNT(*) / (SELECT COUNT(*) FROM employees) * 100, 2) AS percentage\n",
    "FROM employees\n",
    "GROUP BY Resigned\n",
    "ORDER BY status;"
   ]
  },
  {
   "cell_type": "markdown",
   "metadata": {},
   "source": [
    "# Distribution Analysis"
   ]
  },
  {
   "cell_type": "code",
   "execution_count": null,
   "metadata": {
    "vscode": {
     "languageId": "sql"
    }
   },
   "outputs": [],
   "source": [
    "-- Age Distribution\n",
    "-- Purpose: Analyze age distribution in 5-year brackets\n",
    "SELECT \n",
    "    age_bracket,\n",
    "    CONCAT(age_bracket, '-', age_bracket+4) AS age_range,\n",
    "    COUNT(*) AS employee_count,\n",
    "    ROUND(COUNT(*) / (SELECT COUNT(*) FROM employees) * 100, 2) AS percentage\n",
    "FROM (\n",
    "    SELECT \n",
    "        FLOOR(Age/5)*5 AS age_bracket\n",
    "    FROM employees\n",
    ") AS age_groups\n",
    "GROUP BY age_bracket\n",
    "ORDER BY age_bracket;"
   ]
  },
  {
   "cell_type": "code",
   "execution_count": null,
   "metadata": {
    "vscode": {
     "languageId": "sql"
    }
   },
   "outputs": [],
   "source": [
    "-- Salary Distribution\n",
    "-- Purpose: Analyze salary distribution in $1000 brackets\n",
    "SELECT \n",
    "    salary_bracket,\n",
    "    CONCAT('$', salary_bracket, '-$', salary_bracket+999) AS salary_range,\n",
    "    COUNT(*) AS employee_count,\n",
    "    ROUND(COUNT(*) / (SELECT COUNT(*) FROM employees) * 100, 2) AS percentage\n",
    "FROM (\n",
    "    SELECT \n",
    "        FLOOR(Monthly_Salary/1000)*1000 AS salary_bracket\n",
    "    FROM employees\n",
    ") AS salary_groups\n",
    "GROUP BY salary_bracket\n",
    "ORDER BY salary_bracket;"
   ]
  },
  {
   "cell_type": "code",
   "execution_count": null,
   "metadata": {
    "vscode": {
     "languageId": "sql"
    }
   },
   "outputs": [],
   "source": [
    "-- Performance Score Distribution\n",
    "-- Purpose: Analyze the distribution of performance scores\n",
    "SELECT \n",
    "    Performance_Score,\n",
    "    COUNT(*) AS employee_count,\n",
    "    ROUND(COUNT(*) / (SELECT COUNT(*) FROM employees) * 100, 2) AS percentage\n",
    "FROM employees\n",
    "GROUP BY Performance_Score\n",
    "ORDER BY Performance_Score;"
   ]
  },
  {
   "cell_type": "code",
   "execution_count": null,
   "metadata": {
    "vscode": {
     "languageId": "sql"
    }
   },
   "outputs": [],
   "source": [
    "-- Satisfaction Score Distribution\n",
    "-- Purpose: Analyze the distribution of satisfaction scores in ranges\n",
    "SELECT \n",
    "    CASE \n",
    "        WHEN Employee_Satisfaction_Score >= 4 THEN 'Very Satisfied (4-5)'\n",
    "        WHEN Employee_Satisfaction_Score >= 3 THEN 'Satisfied (3-3.99)'\n",
    "        WHEN Employee_Satisfaction_Score >= 2 THEN 'Neutral (2-2.99)'\n",
    "        WHEN Employee_Satisfaction_Score >= 1 THEN 'Dissatisfied (1-1.99)'\n",
    "        ELSE 'Very Dissatisfied (<1)'\n",
    "    END AS satisfaction_level,\n",
    "    COUNT(*) AS employee_count,\n",
    "    ROUND(COUNT(*) / (SELECT COUNT(*) FROM employees) * 100, 2) AS percentage\n",
    "FROM employees\n",
    "GROUP BY satisfaction_level\n",
    "ORDER BY MIN(Employee_Satisfaction_Score) DESC;"
   ]
  },
  {
   "cell_type": "markdown",
   "metadata": {},
   "source": [
    "# Departmental Analysis"
   ]
  },
  {
   "cell_type": "code",
   "execution_count": null,
   "metadata": {
    "vscode": {
     "languageId": "sql"
    }
   },
   "outputs": [],
   "source": [
    "-- Department Demographics\n",
    "-- Purpose: Compare key metrics across departments\n",
    "SELECT \n",
    "    Department,\n",
    "    COUNT(*) AS employee_count,\n",
    "    ROUND(AVG(Age), 1) AS avg_age,\n",
    "    ROUND(AVG(Monthly_Salary), 2) AS avg_salary,\n",
    "    ROUND(AVG(Performance_Score), 1) AS avg_performance,\n",
    "    ROUND(AVG(Employee_Satisfaction_Score), 2) AS avg_satisfaction\n",
    "FROM employees\n",
    "GROUP BY Department\n",
    "ORDER BY employee_count DESC;"
   ]
  },
  {
   "cell_type": "code",
   "execution_count": null,
   "metadata": {
    "vscode": {
     "languageId": "sql"
    }
   },
   "outputs": [],
   "source": [
    "--Department Salary Analysis\n",
    "-- Purpose: Detailed salary analysis by department\n",
    "SELECT \n",
    "    Department,\n",
    "    COUNT(*) AS employee_count,\n",
    "    ROUND(AVG(Monthly_Salary), 2) AS avg_salary,\n",
    "    ROUND(MIN(Monthly_Salary), 2) AS min_salary,\n",
    "    ROUND(MAX(Monthly_Salary), 2) AS max_salary,\n",
    "    ROUND(STDDEV(Monthly_Salary), 2) AS salary_deviation,\n",
    "    ROUND((AVG(Monthly_Salary) / (SELECT AVG(Monthly_Salary) FROM employees) * 100 - 100), 1) AS percent_diff_from_avg\n",
    "FROM employees\n",
    "GROUP BY Department\n",
    "ORDER BY avg_salary DESC;"
   ]
  },
  {
   "cell_type": "code",
   "execution_count": null,
   "metadata": {
    "vscode": {
     "languageId": "sql"
    }
   },
   "outputs": [],
   "source": [
    "-- Department Retention Analysis\n",
    "-- Purpose: Analyze satisfaction and attrition by department\n",
    "SELECT \n",
    "    Department,\n",
    "    ROUND(AVG(Employee_Satisfaction_Score), 2) AS avg_satisfaction,\n",
    "    COUNT(*) AS total_employees,\n",
    "    SUM(CASE WHEN Resigned = 1 THEN 1 ELSE 0 END) AS resignation_count,\n",
    "    ROUND(SUM(CASE WHEN Resigned = 1 THEN 1 ELSE 0 END) / COUNT(*) * 100, 1) AS resignation_rate,\n",
    "    ROUND(AVG(CASE WHEN Resigned = 1 THEN Employee_Satisfaction_Score ELSE NULL END), 2) AS resigned_avg_satisfaction,\n",
    "    ROUND(AVG(CASE WHEN Resigned = 0 THEN Employee_Satisfaction_Score ELSE NULL END), 2) AS active_avg_satisfaction,\n",
    "    ROUND(AVG(Years_At_Company), 1) AS avg_tenure\n",
    "FROM employees\n",
    "GROUP BY Department\n",
    "ORDER BY resignation_rate DESC;"
   ]
  },
  {
   "cell_type": "markdown",
   "metadata": {},
   "source": [
    "# Education Analysis"
   ]
  },
  {
   "cell_type": "code",
   "execution_count": null,
   "metadata": {
    "vscode": {
     "languageId": "sql"
    }
   },
   "outputs": [],
   "source": [
    "-- Education Impact Analysis\n",
    "-- Purpose: Analyze how education affects key metrics\n",
    "SELECT \n",
    "    Education_Level,\n",
    "    COUNT(*) AS employee_count,\n",
    "    ROUND(AVG(Performance_Score), 1) AS avg_performance,\n",
    "    ROUND(AVG(Monthly_Salary), 2) AS avg_salary,\n",
    "    ROUND(AVG(Employee_Satisfaction_Score), 2) AS avg_satisfaction,\n",
    "    SUM(CASE WHEN Resigned = 1 THEN 1 ELSE 0 END) AS resignation_count,\n",
    "    ROUND(SUM(CASE WHEN Resigned = 1 THEN 1 ELSE 0 END) / COUNT(*) * 100, 1) AS resignation_rate\n",
    "FROM employees\n",
    "GROUP BY Education_Level\n",
    "ORDER BY avg_performance DESC;"
   ]
  },
  {
   "cell_type": "markdown",
   "metadata": {},
   "source": [
    "# Remote work analysis"
   ]
  },
  {
   "cell_type": "code",
   "execution_count": null,
   "metadata": {
    "vscode": {
     "languageId": "sql"
    }
   },
   "outputs": [],
   "source": [
    "-- Remote Work Impact\n",
    "-- Purpose: Analyze how remote work affects satisfaction and retention\n",
    "SELECT \n",
    "    CASE\n",
    "        WHEN Remote_Work_Frequency = 0 THEN 'Fully In-Office (0%)'\n",
    "        WHEN Remote_Work_Frequency = 25 THEN 'Low Remote (25%)'\n",
    "        WHEN Remote_Work_Frequency = 50 THEN 'Hybrid (50%)'\n",
    "        WHEN Remote_Work_Frequency = 75 THEN 'Mostly Remote (75%)'\n",
    "        WHEN Remote_Work_Frequency = 100 THEN 'Fully Remote (100%)'\n",
    "        ELSE 'Other'\n",
    "    END AS remote_work_category,\n",
    "    COUNT(*) AS employee_count,\n",
    "    ROUND(AVG(Employee_Satisfaction_Score), 2) AS avg_satisfaction,\n",
    "    ROUND(AVG(Performance_Score), 1) AS avg_performance,\n",
    "    SUM(CASE WHEN Resigned = 1 THEN 1 ELSE 0 END) AS resignation_count,\n",
    "    ROUND(SUM(CASE WHEN Resigned = 1 THEN 1 ELSE 0 END) / COUNT(*) * 100, 1) AS resignation_rate\n",
    "FROM employees\n",
    "GROUP BY remote_work_category\n",
    "ORDER BY MIN(Remote_Work_Frequency);\n"
   ]
  },
  {
   "cell_type": "markdown",
   "metadata": {},
   "source": [
    "# Attrition analysis"
   ]
  },
  {
   "cell_type": "code",
   "execution_count": null,
   "metadata": {
    "vscode": {
     "languageId": "sql"
    }
   },
   "outputs": [],
   "source": [
    "-- Department-wise attrition\n",
    "SELECT\n",
    "    Department,\n",
    "    COUNT(*) AS total_employees,\n",
    "    SUM(Resigned) AS resignations,\n",
    "    ROUND(SUM(Resigned) / COUNT(*) * 100, 1) AS resignation_rate,\n",
    "    ROUND(AVG(Employee_Satisfaction_Score), 2) AS avg_satisfaction\n",
    "FROM\n",
    "    employees\n",
    "GROUP BY\n",
    "    Department\n",
    "ORDER BY\n",
    "    resignation_rate DESC;"
   ]
  }
 ],
 "metadata": {
  "kernelspec": {
   "display_name": "Python 3",
   "language": "python",
   "name": "python3"
  },
  "language_info": {
   "codemirror_mode": {
    "name": "ipython",
    "version": 3
   },
   "file_extension": ".py",
   "mimetype": "text/x-python",
   "name": "python",
   "nbconvert_exporter": "python",
   "pygments_lexer": "ipython3",
   "version": "3.12.9"
  }
 },
 "nbformat": 4,
 "nbformat_minor": 2
}
